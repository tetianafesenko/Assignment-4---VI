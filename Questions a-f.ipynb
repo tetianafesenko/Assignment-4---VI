{
 "cells": [
  {
   "attachments": {},
   "cell_type": "markdown",
   "metadata": {},
   "source": [
    "# Conceptual Questions [25 pts]: "
   ]
  },
  {
   "attachments": {},
   "cell_type": "markdown",
   "metadata": {},
   "source": [
    "### a. [4 pts] In your own words, what is a feed-forward neural network (FFNN)? Provide a graphical illustration for a feed-forward neural network with input, hidden and output layers. Supporting your answer with mathematical expressions is certainly encouraged. \n"
   ]
  },
  {
   "attachments": {},
   "cell_type": "markdown",
   "metadata": {},
   "source": [
    "Answer: A feed-forward neural network is a type of network that takes input data and processes it through multiple cross-connected layers and produces an output or a prediction.\n",
    "Below is a graphical representation of FFNN with input, hidden and output layers:\n",
    "\n",
    "Mathematically, it can be expressed as: z = w * x + b\n",
    " - Each neuron in the input layer receives an input value denoted as \"x\", which could be a set of numbers.\n",
    " - This input value \"x\" is multiplied by a weight \"w\" and added to a bias \"b\"\n",
    " - The result of this multiplication and addition is the weighted sum\"z\"\n"
   ]
  },
  {
   "attachments": {},
   "cell_type": "markdown",
   "metadata": {},
   "source": [
    "### b. [4 pts] In your own words, what is a convolutional neural network (CNN)? What is the difference compared to a feed-forward neural network? "
   ]
  },
  {
   "attachments": {},
   "cell_type": "markdown",
   "metadata": {},
   "source": [
    "A CNN (convolutional neural network) is a type of neural network designed to process grid-like data. Ex: images. It uses special layers called convolutional layers to automatically learn patterns or features from the data. \n",
    "\n",
    "The main differences between CNN and FFNN are that CNN have convolutional layers for capturing local patterns, using local connectivity and parameter sharing for efficient learning, and often incorporate pooling layers for downsampling. Overall, CNNs are specialized more for image-like data processing.\n"
   ]
  },
  {
   "attachments": {},
   "cell_type": "markdown",
   "metadata": {},
   "source": [
    "### c. [4 pts] Explain the principle of minimizing a cost function 𝐶 using gradient descent. \n"
   ]
  },
  {
   "attachments": {},
   "cell_type": "markdown",
   "metadata": {},
   "source": [
    "Gradient descent is a backbone of ML. It’s a method that is used to minimize a cost function in machine learning by taking small steps in the direction of the steepest decrease in the cost function until the best model parameters are found. \n",
    "\n",
    "It is like finding the quickest way downhill. It adjusts the model's parameters in small steps based on the slope of the cost function C. By constantly moving in the direction of steepest decrease, it helps the model find the best parameters that minimize the cost function C and improve its predictions.\n"
   ]
  },
  {
   "attachments": {},
   "cell_type": "markdown",
   "metadata": {},
   "source": [
    "### d. [5 pts] In your opinion, why is it useful to use non-linear activation functions in a neural network? Conceptual or technical answers are both accepted. \n"
   ]
  },
  {
   "attachments": {},
   "cell_type": "markdown",
   "metadata": {},
   "source": [
    "Non-linear activation functions are useful in neural networks because they allow the model to learn complex patterns, capture diverse representations, and approximate any arbitrary function, making it more powerful, flexible, and capable of generalization.\n"
   ]
  },
  {
   "cell_type": "markdown",
   "metadata": {},
   "source": []
  }
 ],
 "metadata": {
  "language_info": {
   "name": "python"
  },
  "orig_nbformat": 4
 },
 "nbformat": 4,
 "nbformat_minor": 2
}
