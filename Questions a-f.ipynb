{
 "cells": [
  {
   "attachments": {},
   "cell_type": "markdown",
   "metadata": {},
   "source": [
    "# Conceptual Questions [25 pts]: "
   ]
  },
  {
   "attachments": {},
   "cell_type": "markdown",
   "metadata": {},
   "source": [
    "### a. [4 pts] In your own words, what is a feed-forward neural network (FFNN)? Provide a graphical illustration for a feed-forward neural network with input, hidden and output layers. Supporting your answer with mathematical expressions is certainly encouraged. \n"
   ]
  },
  {
   "attachments": {},
   "cell_type": "markdown",
   "metadata": {},
   "source": [
    "Answer: A feed-forward neural network is a type of network that takes input data and processes it through multiple cross-connected layers and produces an output or a prediction.\n",
    "Below is a graphical representation of FFNN with input, hidden and output layers:\n",
    "\n",
    "Mathematically, it can be expressed as: z = w * x + b\n",
    " - Each neuron in the input layer receives an input value denoted as \"x\", which could be a set of numbers.\n",
    " - This input value \"x\" is multiplied by a weight \"w\" and added to a bias \"b\"\n",
    " - The result of this multiplication and addition is the weighted sum\"z\"\n"
   ]
  },
  {
   "cell_type": "markdown",
   "metadata": {},
   "source": []
  }
 ],
 "metadata": {
  "language_info": {
   "name": "python"
  },
  "orig_nbformat": 4
 },
 "nbformat": 4,
 "nbformat_minor": 2
}
